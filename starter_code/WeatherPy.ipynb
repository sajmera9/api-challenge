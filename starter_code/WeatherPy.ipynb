{
 "cells": [
  {
   "cell_type": "markdown",
   "metadata": {},
   "source": [
    "# WeatherPy\n",
    "----\n",
    "\n",
    "#### Note\n",
    "* Instructions have been included for each segment. You do not have to follow them exactly, but they are included to help you think through the steps."
   ]
  },
  {
   "cell_type": "code",
   "execution_count": 6,
   "metadata": {
    "scrolled": true
   },
   "outputs": [],
   "source": [
    "# Dependencies and Setup\n",
    "import openweathermapy.core as ow\n",
    "import matplotlib.pyplot as plt\n",
    "import pandas as pd\n",
    "import numpy as np\n",
    "import requests\n",
    "import time\n",
    "\n",
    "# Import API key\n",
    "from api_keys import api_key\n",
    "# Incorporated citipy to determine city based on latitude and longitude\n",
    "from citipy import citipy\n",
    "from config import my_api_key\n",
    "# Output File (CSV)\n",
    "output_data_file = \"output_data/cities.csv\"\n",
    "\n",
    "# Range of latitudes and longitudes\n",
    "lat_range = (-90, 90)\n",
    "lng_range = (-180, 180)"
   ]
  },
  {
   "cell_type": "markdown",
   "metadata": {},
   "source": [
    "## Generate Cities List"
   ]
  },
  {
   "cell_type": "code",
   "execution_count": 7,
   "metadata": {},
   "outputs": [
    {
     "data": {
      "text/plain": [
       "590"
      ]
     },
     "execution_count": 7,
     "metadata": {},
     "output_type": "execute_result"
    }
   ],
   "source": [
    "# List for holding lat_lngs and cities\n",
    "lat_lngs = []\n",
    "cities = []\n",
    "\n",
    "# Create a set of random lat and lng combinations\n",
    "lats = np.random.uniform(low=-90.000, high=90.000, size=1500)\n",
    "lngs = np.random.uniform(low=-180.000, high=180.000, size=1500)\n",
    "lat_lngs = zip(lats, lngs)\n",
    "\n",
    "# Identify nearest city for each lat, lng combination\n",
    "for lat_lng in lat_lngs:\n",
    "    city = citipy.nearest_city(lat_lng[0], lat_lng[1]).city_name\n",
    "    \n",
    "    # If the city is unique, then add it to a our cities list\n",
    "    if city not in cities:\n",
    "        cities.append(city)\n",
    "\n",
    "# Print the city count to confirm sufficient count\n",
    "len(cities)"
   ]
  },
  {
   "cell_type": "markdown",
   "metadata": {},
   "source": [
    "### Perform API Calls\n",
    "* Perform a weather check on each city using a series of successive API calls.\n",
    "* Include a print log of each city as it'sbeing processed (with the city number and city name).\n"
   ]
  },
  {
   "cell_type": "code",
   "execution_count": 8,
   "metadata": {},
   "outputs": [],
   "source": [
    "test_cities = [\"Lisbon\", \"fremont\", \"foobar\", \"Paris\", \"london\"]"
   ]
  },
  {
   "cell_type": "code",
   "execution_count": null,
   "metadata": {},
   "outputs": [
    {
     "name": "stdout",
     "output_type": "stream",
     "text": [
      "Beginning Data Retrieval\n",
      "-----------------------------\n",
      "Processing Record of tuktoyaktuk\n",
      "Processing Record of rikitea\n",
      "Processing Record of punta arenas\n",
      "Processing Record of ushuaia\n",
      "Processing Record of xuddur\n",
      "Processing Record of sinazongwe\n",
      "Processing Record of bredasdorp\n",
      "Processing Record of coahuayana\n",
      "Processing Record of chiredzi\n",
      "Processing Record of ottumwa\n",
      "Processing Record of mataura\n",
      "Processing Record of port elizabeth\n",
      "Processing Record of busselton\n",
      "City not found. Skipping...\n",
      "Processing Record of airai\n",
      "Processing Record of haines junction\n",
      "Processing Record of tuatapere\n",
      "Processing Record of saskylakh\n",
      "Processing Record of cape town\n",
      "Processing Record of sibenik\n",
      "Processing Record of ilulissat\n",
      "Processing Record of klaksvik\n",
      "Processing Record of samarai\n",
      "City not found. Skipping...\n",
      "Processing Record of kyren\n",
      "Processing Record of nabire\n",
      "Processing Record of tamiahua\n",
      "Processing Record of albany\n",
      "Processing Record of nanortalik\n",
      "Processing Record of torbay\n",
      "Processing Record of horta\n",
      "Processing Record of arraial do cabo\n",
      "Processing Record of vibo valentia\n",
      "Processing Record of porbandar\n",
      "Processing Record of mecca\n",
      "Processing Record of akureyri\n",
      "Processing Record of thompson\n",
      "Processing Record of cherskiy\n",
      "Processing Record of rawson\n",
      "Processing Record of kavieng\n",
      "Processing Record of solano\n",
      "City not found. Skipping...\n",
      "Processing Record of hualmay\n",
      "Processing Record of east london\n",
      "Processing Record of banagher\n",
      "Processing Record of vestmannaeyjar\n",
      "Processing Record of paamiut\n",
      "Processing Record of hobart\n",
      "City not found. Skipping...\n",
      "Processing Record of carnarvon\n",
      "Processing Record of sitka\n",
      "Processing Record of bluff\n",
      "Processing Record of kapaa\n",
      "Processing Record of pevek\n",
      "Processing Record of hofn\n",
      "Processing Record of iquitos\n",
      "Processing Record of urusha\n",
      "Processing Record of tiksi\n",
      "Processing Record of new norfolk\n",
      "Processing Record of palamos\n",
      "Processing Record of hithadhoo\n",
      "Processing Record of atuona\n",
      "Processing Record of puerto ayora\n",
      "City not found. Skipping...\n",
      "Processing Record of aberdeen\n",
      "City not found. Skipping...\n",
      "Processing Record of saint-augustin\n",
      "Processing Record of dwarka\n",
      "Processing Record of qaanaaq\n",
      "Processing Record of shchors\n",
      "Processing Record of vaini\n",
      "City not found. Skipping...\n",
      "Processing Record of wanning\n",
      "Processing Record of kralendijk\n",
      "Processing Record of hilo\n",
      "Processing Record of khatanga\n",
      "Processing Record of cardston\n",
      "Processing Record of yellowknife\n",
      "City not found. Skipping...\n",
      "Processing Record of port blair\n",
      "Processing Record of xining\n",
      "Processing Record of saint george\n",
      "Processing Record of kon tum\n",
      "Processing Record of sungaipenuh\n",
      "Processing Record of bambous virieux\n",
      "Processing Record of rabo de peixe\n",
      "Processing Record of port shepstone\n",
      "Processing Record of tasiilaq\n",
      "Processing Record of pakxan\n",
      "Processing Record of sao filipe\n",
      "Processing Record of barrow\n",
      "Processing Record of geraldton\n",
      "Processing Record of san carlos del zulia\n",
      "City not found. Skipping...\n",
      "Processing Record of dikson\n",
      "Processing Record of poum\n",
      "Processing Record of zhaotong\n",
      "Processing Record of victoria\n",
      "Processing Record of dinguiraye\n",
      "Processing Record of seoul\n",
      "Processing Record of hami\n",
      "Processing Record of santa marta\n",
      "Processing Record of ketchikan\n",
      "City not found. Skipping...\n",
      "Processing Record of kruisfontein\n",
      "Processing Record of faanui\n",
      "Processing Record of jamestown\n",
      "Processing Record of tezu\n",
      "Processing Record of mar del plata\n",
      "Processing Record of brusyliv\n",
      "Processing Record of alofi\n",
      "Processing Record of clyde river\n",
      "Processing Record of fortuna\n",
      "Processing Record of steinbach\n",
      "Processing Record of kenai\n"
     ]
    }
   ],
   "source": [
    "from pprint import pprint\n",
    "url = \"http://api.openweathermap.org/data/2.5/weather?\"\n",
    "weather_data = []\n",
    "city_name = []\n",
    "lat = []\n",
    "lon = []\n",
    "cloud = []\n",
    "country = []\n",
    "humidity = []\n",
    "max_temp = []\n",
    "wind_speed = []\n",
    "date = []\n",
    "\n",
    "print(\"Beginning Data Retrieval\")\n",
    "print(\"-----------------------------\")\n",
    "\n",
    "for city in cities:\n",
    "    query_url = url + \"appid=\" + my_api_key  \"&q=\" + city + \"&units=imperial\"\n",
    "\n",
    "    weather_response = requests.get(query_url)\n",
    "    weather_json = weather_response.json()\n",
    "    \n",
    "    if weather_json[\"cod\"] == \"404\":\n",
    "        print(\"City not found. Skipping...\")\n",
    "    else:\n",
    "        print(f\"Processing Record of {city}\")\n",
    "        weather_data.append(weather_json)\n",
    "        city_name.append(weather_json['name'])\n",
    "        lat.append(weather_json['coord']['lat'])\n",
    "        lon.append(weather_json['coord']['lon'])\n",
    "        cloud.append(weather_json['clouds']['all'])\n",
    "        country.append(weather_json['sys']['country'])\n",
    "        humidity.append(weather_json['main']['humidity'])\n",
    "        max_temp.append(weather_json['main']['temp_max'])\n",
    "        wind_speed.append(weather_json['wind']['speed'])\n",
    "        date.append(weather_json['dt'])\n",
    "\n",
    "print(\"-----------------------------\")\n",
    "print(\"Ending Data Retrieval\")\n",
    "print(\"-----------------------------\")"
   ]
  },
  {
   "cell_type": "code",
   "execution_count": null,
   "metadata": {},
   "outputs": [],
   "source": []
  },
  {
   "cell_type": "code",
   "execution_count": null,
   "metadata": {},
   "outputs": [],
   "source": []
  },
  {
   "cell_type": "code",
   "execution_count": null,
   "metadata": {},
   "outputs": [],
   "source": []
  },
  {
   "cell_type": "markdown",
   "metadata": {},
   "source": [
    "### Convert Raw Data to DataFrame\n",
    "* Export the city data into a .csv.\n",
    "* Display the DataFrame"
   ]
  },
  {
   "cell_type": "code",
   "execution_count": null,
   "metadata": {},
   "outputs": [],
   "source": []
  },
  {
   "cell_type": "code",
   "execution_count": null,
   "metadata": {},
   "outputs": [],
   "source": []
  },
  {
   "cell_type": "markdown",
   "metadata": {},
   "source": [
    "### Plotting the Data\n",
    "* Use proper labeling of the plots using plot titles (including date of analysis) and axes labels.\n",
    "* Save the plotted figures as .pngs."
   ]
  },
  {
   "cell_type": "markdown",
   "metadata": {},
   "source": [
    "#### Latitude vs. Temperature Plot"
   ]
  },
  {
   "cell_type": "code",
   "execution_count": null,
   "metadata": {},
   "outputs": [],
   "source": []
  },
  {
   "cell_type": "markdown",
   "metadata": {},
   "source": [
    "#### Latitude vs. Humidity Plot"
   ]
  },
  {
   "cell_type": "code",
   "execution_count": null,
   "metadata": {},
   "outputs": [],
   "source": []
  },
  {
   "cell_type": "markdown",
   "metadata": {},
   "source": [
    "#### Latitude vs. Cloudiness Plot"
   ]
  },
  {
   "cell_type": "code",
   "execution_count": null,
   "metadata": {},
   "outputs": [],
   "source": []
  },
  {
   "cell_type": "markdown",
   "metadata": {},
   "source": [
    "#### Latitude vs. Wind Speed Plot"
   ]
  },
  {
   "cell_type": "code",
   "execution_count": null,
   "metadata": {},
   "outputs": [],
   "source": []
  },
  {
   "cell_type": "code",
   "execution_count": null,
   "metadata": {},
   "outputs": [],
   "source": []
  }
 ],
 "metadata": {
  "anaconda-cloud": {},
  "kernel_info": {
   "name": "python3"
  },
  "kernelspec": {
   "display_name": "Python 3",
   "language": "python",
   "name": "python3"
  },
  "language_info": {
   "codemirror_mode": {
    "name": "ipython",
    "version": 3
   },
   "file_extension": ".py",
   "mimetype": "text/x-python",
   "name": "python",
   "nbconvert_exporter": "python",
   "pygments_lexer": "ipython3",
   "version": "3.7.5"
  },
  "nteract": {
   "version": "0.12.3"
  }
 },
 "nbformat": 4,
 "nbformat_minor": 2
}
